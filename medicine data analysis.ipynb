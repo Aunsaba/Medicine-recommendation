{
 "cells": [
  {
   "cell_type": "markdown",
   "id": "66d97b30",
   "metadata": {},
   "source": [
    "## Importing Necessary Libraries"
   ]
  },
  {
   "cell_type": "code",
   "execution_count": 1,
   "id": "fc33af79",
   "metadata": {
    "ExecuteTime": {
     "end_time": "2024-05-15T05:38:08.345380Z",
     "start_time": "2024-05-15T05:38:04.565487Z"
    }
   },
   "outputs": [],
   "source": [
    "# for dataframe manipulation and analysis\n",
    "import pandas as pd\n",
    "import numpy as np\n",
    "\n",
    "# for data visualiztion\n",
    "import matplotlib.pyplot as plt\n",
    "import seaborn as sns\n",
    "\n",
    "# for warning filtering\n",
    "import warnings\n",
    "warnings.filterwarnings('ignore')\n",
    "\n",
    "# for data preprocessing\n",
    "from sklearn.preprocessing import LabelEncoder\n",
    "from sklearn.model_selection import train_test_split"
   ]
  },
  {
   "cell_type": "markdown",
   "id": "c1d9bd38",
   "metadata": {},
   "source": [
    "## Loading Dataset"
   ]
  },
  {
   "cell_type": "code",
   "execution_count": 2,
   "id": "374fc591",
   "metadata": {
    "ExecuteTime": {
     "end_time": "2024-05-15T05:38:08.406269Z",
     "start_time": "2024-05-15T05:38:08.350303Z"
    }
   },
   "outputs": [
    {
     "data": {
      "text/html": [
       "<div>\n",
       "<style scoped>\n",
       "    .dataframe tbody tr th:only-of-type {\n",
       "        vertical-align: middle;\n",
       "    }\n",
       "\n",
       "    .dataframe tbody tr th {\n",
       "        vertical-align: top;\n",
       "    }\n",
       "\n",
       "    .dataframe thead th {\n",
       "        text-align: right;\n",
       "    }\n",
       "</style>\n",
       "<table border=\"1\" class=\"dataframe\">\n",
       "  <thead>\n",
       "    <tr style=\"text-align: right;\">\n",
       "      <th></th>\n",
       "      <th>Disease</th>\n",
       "      <th>Fever</th>\n",
       "      <th>Cough</th>\n",
       "      <th>Fatigue</th>\n",
       "      <th>Difficulty Breathing</th>\n",
       "      <th>Age</th>\n",
       "      <th>Gender</th>\n",
       "      <th>Blood Pressure</th>\n",
       "      <th>Cholesterol Level</th>\n",
       "      <th>Outcome Variable</th>\n",
       "    </tr>\n",
       "  </thead>\n",
       "  <tbody>\n",
       "    <tr>\n",
       "      <th>0</th>\n",
       "      <td>Influenza</td>\n",
       "      <td>Yes</td>\n",
       "      <td>No</td>\n",
       "      <td>Yes</td>\n",
       "      <td>Yes</td>\n",
       "      <td>19</td>\n",
       "      <td>Female</td>\n",
       "      <td>Low</td>\n",
       "      <td>Normal</td>\n",
       "      <td>Positive</td>\n",
       "    </tr>\n",
       "    <tr>\n",
       "      <th>1</th>\n",
       "      <td>Common Cold</td>\n",
       "      <td>No</td>\n",
       "      <td>Yes</td>\n",
       "      <td>Yes</td>\n",
       "      <td>No</td>\n",
       "      <td>25</td>\n",
       "      <td>Female</td>\n",
       "      <td>Normal</td>\n",
       "      <td>Normal</td>\n",
       "      <td>Negative</td>\n",
       "    </tr>\n",
       "    <tr>\n",
       "      <th>2</th>\n",
       "      <td>Eczema</td>\n",
       "      <td>No</td>\n",
       "      <td>Yes</td>\n",
       "      <td>Yes</td>\n",
       "      <td>No</td>\n",
       "      <td>25</td>\n",
       "      <td>Female</td>\n",
       "      <td>Normal</td>\n",
       "      <td>Normal</td>\n",
       "      <td>Negative</td>\n",
       "    </tr>\n",
       "    <tr>\n",
       "      <th>3</th>\n",
       "      <td>Asthma</td>\n",
       "      <td>Yes</td>\n",
       "      <td>Yes</td>\n",
       "      <td>No</td>\n",
       "      <td>Yes</td>\n",
       "      <td>25</td>\n",
       "      <td>Male</td>\n",
       "      <td>Normal</td>\n",
       "      <td>Normal</td>\n",
       "      <td>Positive</td>\n",
       "    </tr>\n",
       "    <tr>\n",
       "      <th>4</th>\n",
       "      <td>Asthma</td>\n",
       "      <td>Yes</td>\n",
       "      <td>Yes</td>\n",
       "      <td>No</td>\n",
       "      <td>Yes</td>\n",
       "      <td>25</td>\n",
       "      <td>Male</td>\n",
       "      <td>Normal</td>\n",
       "      <td>Normal</td>\n",
       "      <td>Positive</td>\n",
       "    </tr>\n",
       "  </tbody>\n",
       "</table>\n",
       "</div>"
      ],
      "text/plain": [
       "       Disease Fever Cough Fatigue Difficulty Breathing  Age  Gender  \\\n",
       "0    Influenza   Yes    No     Yes                  Yes   19  Female   \n",
       "1  Common Cold    No   Yes     Yes                   No   25  Female   \n",
       "2       Eczema    No   Yes     Yes                   No   25  Female   \n",
       "3       Asthma   Yes   Yes      No                  Yes   25    Male   \n",
       "4       Asthma   Yes   Yes      No                  Yes   25    Male   \n",
       "\n",
       "  Blood Pressure Cholesterol Level Outcome Variable  \n",
       "0            Low            Normal         Positive  \n",
       "1         Normal            Normal         Negative  \n",
       "2         Normal            Normal         Negative  \n",
       "3         Normal            Normal         Positive  \n",
       "4         Normal            Normal         Positive  "
      ]
     },
     "execution_count": 2,
     "metadata": {},
     "output_type": "execute_result"
    }
   ],
   "source": [
    "df = pd.read_csv('Disease_symptom_and_patient_profile_dataset.csv')\n",
    "df.head()"
   ]
  },
  {
   "cell_type": "markdown",
   "id": "67e0891e",
   "metadata": {},
   "source": [
    "## Exploratory Data Analysis"
   ]
  },
  {
   "cell_type": "code",
   "execution_count": 3,
   "id": "c4aab4e7",
   "metadata": {
    "ExecuteTime": {
     "end_time": "2024-05-15T05:38:08.673138Z",
     "start_time": "2024-05-15T05:38:08.411266Z"
    }
   },
   "outputs": [
    {
     "data": {
      "text/plain": [
       "49"
      ]
     },
     "execution_count": 3,
     "metadata": {},
     "output_type": "execute_result"
    }
   ],
   "source": [
    "df.duplicated().sum()"
   ]
  },
  {
   "cell_type": "code",
   "execution_count": 4,
   "id": "07dec6b3",
   "metadata": {
    "ExecuteTime": {
     "end_time": "2024-05-15T05:38:08.958030Z",
     "start_time": "2024-05-15T05:38:08.678114Z"
    }
   },
   "outputs": [],
   "source": [
    "df.drop_duplicates(inplace = True)"
   ]
  },
  {
   "cell_type": "code",
   "execution_count": 5,
   "id": "5fdd305a",
   "metadata": {
    "ExecuteTime": {
     "end_time": "2024-05-15T05:38:09.190839Z",
     "start_time": "2024-05-15T05:38:08.961952Z"
    },
    "scrolled": true
   },
   "outputs": [
    {
     "name": "stdout",
     "output_type": "stream",
     "text": [
      "<class 'pandas.core.frame.DataFrame'>\n",
      "Int64Index: 300 entries, 0 to 347\n",
      "Data columns (total 10 columns):\n",
      " #   Column                Non-Null Count  Dtype \n",
      "---  ------                --------------  ----- \n",
      " 0   Disease               300 non-null    object\n",
      " 1   Fever                 300 non-null    object\n",
      " 2   Cough                 300 non-null    object\n",
      " 3   Fatigue               300 non-null    object\n",
      " 4   Difficulty Breathing  300 non-null    object\n",
      " 5   Age                   300 non-null    int64 \n",
      " 6   Gender                300 non-null    object\n",
      " 7   Blood Pressure        300 non-null    object\n",
      " 8   Cholesterol Level     300 non-null    object\n",
      " 9   Outcome Variable      300 non-null    object\n",
      "dtypes: int64(1), object(9)\n",
      "memory usage: 25.8+ KB\n"
     ]
    }
   ],
   "source": [
    "df.info()"
   ]
  },
  {
   "cell_type": "code",
   "execution_count": 6,
   "id": "49c7ecb6",
   "metadata": {
    "ExecuteTime": {
     "end_time": "2024-05-15T05:38:09.486652Z",
     "start_time": "2024-05-15T05:38:09.194818Z"
    },
    "scrolled": true
   },
   "outputs": [
    {
     "data": {
      "text/plain": [
       "High      140\n",
       "Normal    130\n",
       "Low        30\n",
       "Name: Cholesterol Level, dtype: int64"
      ]
     },
     "execution_count": 6,
     "metadata": {},
     "output_type": "execute_result"
    }
   ],
   "source": [
    "df['Cholesterol Level'].value_counts()"
   ]
  },
  {
   "cell_type": "markdown",
   "id": "1c0641a5",
   "metadata": {},
   "source": [
    "## Data preprocessing"
   ]
  },
  {
   "cell_type": "code",
   "execution_count": 8,
   "id": "d353955d",
   "metadata": {
    "ExecuteTime": {
     "end_time": "2024-05-15T05:38:10.258285Z",
     "start_time": "2024-05-15T05:38:10.217232Z"
    }
   },
   "outputs": [],
   "source": [
    "le = LabelEncoder()\n",
    "for col in df.drop(['Disease','Age'],axis = 1).columns:\n",
    "    df[col] = le.fit_transform(df[col])"
   ]
  },
  {
   "cell_type": "code",
   "execution_count": 9,
   "id": "eab3b15d",
   "metadata": {
    "ExecuteTime": {
     "end_time": "2024-05-15T05:38:10.514138Z",
     "start_time": "2024-05-15T05:38:10.264209Z"
    }
   },
   "outputs": [],
   "source": [
    "df = pd.get_dummies(df,columns = ['Disease'])"
   ]
  },
  {
   "cell_type": "markdown",
   "id": "7ff878a8",
   "metadata": {},
   "source": [
    "## Creating Training,validation and Test set"
   ]
  },
  {
   "cell_type": "code",
   "execution_count": 10,
   "id": "28f35c3d",
   "metadata": {
    "ExecuteTime": {
     "end_time": "2024-05-15T05:38:10.822893Z",
     "start_time": "2024-05-15T05:38:10.522057Z"
    }
   },
   "outputs": [],
   "source": [
    "X = df.drop('Outcome Variable',axis = 1)\n",
    "y = df['Outcome Variable']"
   ]
  },
  {
   "cell_type": "code",
   "execution_count": 11,
   "id": "d82ee086",
   "metadata": {
    "ExecuteTime": {
     "end_time": "2024-05-15T05:38:11.058825Z",
     "start_time": "2024-05-15T05:38:10.826883Z"
    }
   },
   "outputs": [],
   "source": [
    "X_train,X_test,y_train,y_test = train_test_split(X,y,test_size = 0.1,random_state = 5)"
   ]
  },
  {
   "cell_type": "markdown",
   "id": "5682539e",
   "metadata": {},
   "source": [
    "## Model Selection"
   ]
  },
  {
   "cell_type": "markdown",
   "id": "2642ebbe",
   "metadata": {},
   "source": [
    "### Training on Different Models"
   ]
  },
  {
   "cell_type": "code",
   "execution_count": 12,
   "id": "5504606a",
   "metadata": {
    "ExecuteTime": {
     "end_time": "2024-05-15T05:38:11.675473Z",
     "start_time": "2024-05-15T05:38:11.062749Z"
    }
   },
   "outputs": [],
   "source": [
    "# ml models\n",
    "from sklearn.linear_model import LogisticRegression\n",
    "from sklearn.naive_bayes import MultinomialNB\n",
    "from sklearn.svm import SVC\n",
    "from sklearn.ensemble import RandomForestClassifier,GradientBoostingClassifier\n",
    "from xgboost import XGBClassifier\n",
    "\n",
    "# for model evaluation\n",
    "from sklearn.metrics import accuracy_score,confusion_matrix,f1_score,precision_score\n",
    "\n",
    "# cross validation\n",
    "from sklearn.model_selection import cross_val_score,StratifiedKFold"
   ]
  },
  {
   "cell_type": "code",
   "execution_count": 13,
   "id": "718b7f46",
   "metadata": {
    "ExecuteTime": {
     "end_time": "2024-05-15T05:38:11.697389Z",
     "start_time": "2024-05-15T05:38:11.679395Z"
    }
   },
   "outputs": [],
   "source": [
    "def model_builder(estimators):\n",
    "    for estimator in estimators:\n",
    "        estimator.fit(X_train,y_train)\n",
    "        \n",
    "        # model evaluation\n",
    "        training_accuracy = estimator.score(X_train,y_train)\n",
    "        y_pred = estimator.predict(X_test)\n",
    "        validation_accuracy = accuracy_score(y_test,y_pred)\n",
    "        conf_matrix = confusion_matrix(y_test,y_pred)\n",
    "        f1score = f1_score(y_test,y_pred,average = 'weighted')\n",
    "        \n",
    "        print('MODEL NAME:',type(estimator).__name__)\n",
    "        print('\\nTraining Accuracy:',round(training_accuracy,4),end = '\\t')\n",
    "        print('Validation Accuracy:',round(validation_accuracy,4),end = '\\t')\n",
    "        print('f1 score:',round(f1score,4))\n",
    "        print('confusion matrix:\\n',conf_matrix)\n",
    "        print('\\n')"
   ]
  },
  {
   "cell_type": "code",
   "execution_count": 14,
   "id": "d36ec295",
   "metadata": {
    "ExecuteTime": {
     "end_time": "2024-05-15T05:38:13.308462Z",
     "start_time": "2024-05-15T05:38:11.704385Z"
    }
   },
   "outputs": [
    {
     "name": "stdout",
     "output_type": "stream",
     "text": [
      "MODEL NAME: LogisticRegression\n",
      "\n",
      "Training Accuracy: 0.763\tValidation Accuracy: 0.6\tf1 score: 0.6\n",
      "confusion matrix:\n",
      " [[ 8  6]\n",
      " [ 6 10]]\n",
      "\n",
      "\n",
      "MODEL NAME: MultinomialNB\n",
      "\n",
      "Training Accuracy: 0.7519\tValidation Accuracy: 0.5667\tf1 score: 0.5652\n",
      "confusion matrix:\n",
      " [[9 5]\n",
      " [8 8]]\n",
      "\n",
      "\n",
      "MODEL NAME: SVC\n",
      "\n",
      "Training Accuracy: 0.5222\tValidation Accuracy: 0.5333\tf1 score: 0.371\n",
      "confusion matrix:\n",
      " [[ 0 14]\n",
      " [ 0 16]]\n",
      "\n",
      "\n",
      "MODEL NAME: RandomForestClassifier\n",
      "\n",
      "Training Accuracy: 1.0\tValidation Accuracy: 0.6667\tf1 score: 0.6637\n",
      "confusion matrix:\n",
      " [[ 8  6]\n",
      " [ 4 12]]\n",
      "\n",
      "\n",
      "MODEL NAME: GradientBoostingClassifier\n",
      "\n",
      "Training Accuracy: 0.8963\tValidation Accuracy: 0.7667\tf1 score: 0.7659\n",
      "confusion matrix:\n",
      " [[12  2]\n",
      " [ 5 11]]\n",
      "\n",
      "\n",
      "MODEL NAME: XGBClassifier\n",
      "\n",
      "Training Accuracy: 0.9889\tValidation Accuracy: 0.6333\tf1 score: 0.6321\n",
      "confusion matrix:\n",
      " [[ 8  6]\n",
      " [ 5 11]]\n",
      "\n",
      "\n"
     ]
    }
   ],
   "source": [
    "model_builder([LogisticRegression(),MultinomialNB(),SVC(),RandomForestClassifier(),GradientBoostingClassifier(),\n",
    "              XGBClassifier()])"
   ]
  }
 ],
 "metadata": {
  "kernelspec": {
   "display_name": "Python 3 (ipykernel)",
   "language": "python",
   "name": "python3"
  },
  "language_info": {
   "codemirror_mode": {
    "name": "ipython",
    "version": 3
   },
   "file_extension": ".py",
   "mimetype": "text/x-python",
   "name": "python",
   "nbconvert_exporter": "python",
   "pygments_lexer": "ipython3",
   "version": "3.9.13"
  }
 },
 "nbformat": 4,
 "nbformat_minor": 5
}
